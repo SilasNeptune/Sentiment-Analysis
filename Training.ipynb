{
 "cells": [
  {
   "cell_type": "code",
   "execution_count": 67,
   "metadata": {},
   "outputs": [
    {
     "name": "stdout",
     "output_type": "stream",
     "text": [
      "showing info https://raw.githubusercontent.com/nltk/nltk_data/gh-pages/index.xml\n"
     ]
    }
   ],
   "source": [
    "import numpy as np # linear algebra\n",
    "import pandas as pd # data processing, CSV file I/O (e.g. pd.read_csv)\n",
    "from sklearn.model_selection import train_test_split # function for splitting data to train and test sets\n",
    "import seaborn as sns #visualizations\n",
    "import matplotlib.pyplot as plt #visualizations\n",
    "import re #cleaning\n",
    "\n",
    "import nltk\n",
    "from nltk import sent_tokenize, word_tokenize, pos_tag\n",
    "from nltk.corpus import stopwords\n",
    "from nltk.classify import SklearnClassifier\n",
    "nltk.download()\n",
    "\n",
    "import matplotlib.pyplot as plt\n",
    "%matplotlib inline\n"
   ]
  },
  {
   "cell_type": "code",
   "execution_count": 68,
   "metadata": {},
   "outputs": [
    {
     "name": "stdout",
     "output_type": "stream",
     "text": [
      "         0  1467810369  Mon Apr 06 22:19:45 PDT 2009  NO_QUERY  \\\n",
      "1599994  4  2193601966  Tue Jun 16 08:40:49 PDT 2009  NO_QUERY   \n",
      "1599995  4  2193601969  Tue Jun 16 08:40:49 PDT 2009  NO_QUERY   \n",
      "1599996  4  2193601991  Tue Jun 16 08:40:49 PDT 2009  NO_QUERY   \n",
      "1599997  4  2193602064  Tue Jun 16 08:40:49 PDT 2009  NO_QUERY   \n",
      "1599998  4  2193602129  Tue Jun 16 08:40:50 PDT 2009  NO_QUERY   \n",
      "\n",
      "         _TheSpecialOne_  \\\n",
      "1599994  AmandaMarie1028   \n",
      "1599995      TheWDBoards   \n",
      "1599996           bpbabe   \n",
      "1599997     tinydiamondz   \n",
      "1599998   RyanTrevMorris   \n",
      "\n",
      "        @switchfoot http://twitpic.com/2y1zl - Awww, that's a bummer.  You shoulda got David Carr of Third Day to do it. ;D  \n",
      "1599994  Just woke up. Having no school is the best fee...                                                                   \n",
      "1599995  TheWDB.com - Very cool to hear old Walt interv...                                                                   \n",
      "1599996  Are you ready for your MoJo Makeover? Ask me f...                                                                   \n",
      "1599997  Happy 38th Birthday to my boo of alll time!!! ...                                                                   \n",
      "1599998  happy #charitytuesday @theNSPCC @SparksCharity...                                                                   \n"
     ]
    },
    {
     "data": {
      "text/plain": [
       "['0',\n",
       " '1467810369',\n",
       " 'Mon Apr 06 22:19:45 PDT 2009',\n",
       " 'NO_QUERY',\n",
       " '_TheSpecialOne_',\n",
       " \"@switchfoot http://twitpic.com/2y1zl - Awww, that's a bummer.  You shoulda got David Carr of Third Day to do it. ;D\"]"
      ]
     },
     "execution_count": 68,
     "metadata": {},
     "output_type": "execute_result"
    }
   ],
   "source": [
    "trainingset = pd.read_csv('training.1600000.processed.noemoticon.csv', encoding='latin-1')\n",
    "print(trainingset.tail())\n",
    "list(trainingset.columns.values)"
   ]
  },
  {
   "cell_type": "code",
   "execution_count": 70,
   "metadata": {
    "collapsed": true
   },
   "outputs": [],
   "source": [
    "trainingset.columns = ['sentiment', 'id', 'time', 'query', 'user', 'text']"
   ]
  },
  {
   "cell_type": "code",
   "execution_count": 71,
   "metadata": {},
   "outputs": [
    {
     "name": "stdout",
     "output_type": "stream",
     "text": [
      "   sentiment          id                          time     query  \\\n",
      "0          0  1467810672  Mon Apr 06 22:19:49 PDT 2009  NO_QUERY   \n",
      "1          0  1467810917  Mon Apr 06 22:19:53 PDT 2009  NO_QUERY   \n",
      "2          0  1467811184  Mon Apr 06 22:19:57 PDT 2009  NO_QUERY   \n",
      "3          0  1467811193  Mon Apr 06 22:19:57 PDT 2009  NO_QUERY   \n",
      "4          0  1467811372  Mon Apr 06 22:20:00 PDT 2009  NO_QUERY   \n",
      "\n",
      "            user                                               text  \n",
      "0  scotthamilton  is upset that he can't update his facebook by ...  \n",
      "1       mattycus  kenichan i dived many times for the ball manag...  \n",
      "2        ElleCTF    my whole body feels itchy and like its on fire   \n",
      "3         Karoli  nationwideclass no it's not behaving at all i'...  \n",
      "4       joy_wolf                       kwesidei not the whole crew   \n"
     ]
    }
   ],
   "source": [
    "data = trainingset.copy()            \n",
    "\n",
    "data['text'] = data['text'].apply(lambda x: re.sub('[!@#$:).;,?&]', '', x.lower()))\n",
    "data['text'] = data['text'].apply(lambda x: re.sub('  ', ' ', x))\n",
    "\n",
    "data['sentiment'] = data['sentiment'].map({0: 0, 4: 1})\n",
    "\n",
    "print(data.head()) "
   ]
  },
  {
   "cell_type": "code",
   "execution_count": 72,
   "metadata": {},
   "outputs": [
    {
     "name": "stdout",
     "output_type": "stream",
     "text": [
      "                                                text  sentiment\n",
      "0  is upset that he can't update his facebook by ...          0\n",
      "1  kenichan i dived many times for the ball manag...          0\n",
      "2    my whole body feels itchy and like its on fire           0\n",
      "3  nationwideclass no it's not behaving at all i'...          0\n",
      "4                       kwesidei not the whole crew           0\n",
      "2\n"
     ]
    }
   ],
   "source": [
    "data = data[['text','sentiment']] #dropping unnecessary columns\n",
    "print(data.head())\n",
    "print(data['sentiment'].nunique()) #checking that there are no neutral sentiments"
   ]
  },
  {
   "cell_type": "code",
   "execution_count": 73,
   "metadata": {},
   "outputs": [
    {
     "name": "stdout",
     "output_type": "stream",
     "text": [
      "<class 'pandas.core.frame.DataFrame'>\n",
      "Int64Index: 1439999 entries, 56193 to 1372913\n",
      "Data columns (total 2 columns):\n",
      "text         1439999 non-null object\n",
      "sentiment    1439999 non-null int64\n",
      "dtypes: int64(1), object(1)\n",
      "memory usage: 33.0+ MB\n",
      "None\n"
     ]
    }
   ],
   "source": [
    "# Splitting the dataset into train and test set\n",
    "train, test = train_test_split(data,test_size = 0.1)\n",
    "print(train.info())\n",
    "\n",
    "y = data.sentiment\n",
    "X = data.text\n",
    "\n",
    "x_train, x_validation_and_test, y_train, y_validation_and_test = train_test_split(X, y, test_size=.02)\n",
    "\n",
    "x_validation, x_test, y_validation, y_test = train_test_split(x_validation_and_test, \n",
    "                                                              y_validation_and_test, test_size=.5)\n"
   ]
  },
  {
   "cell_type": "code",
   "execution_count": 7,
   "metadata": {},
   "outputs": [
    {
     "data": {
      "text/plain": [
       "780041                         hmpf i miss michael so much \n",
       "57239                       inflicted with paranoiawaaaaaa \n",
       "341819                                 is still recovering \n",
       "689233    damn i made a cup of tea but just remembered i...\n",
       "701314    chloemichelle15 yeah i know i want a milk shak...\n",
       "Name: text, dtype: object"
      ]
     },
     "execution_count": 7,
     "metadata": {},
     "output_type": "execute_result"
    }
   ],
   "source": [
    "train_pos = train[ train['sentiment'] == 1]\n",
    "train_pos = train_pos[\"text\"]\n",
    "train_neg = train[ train['sentiment'] == 0]\n",
    "train_neg = train_neg['text']\n",
    "\n",
    "train_neg.head()"
   ]
  },
  {
   "cell_type": "code",
   "execution_count": 14,
   "metadata": {},
   "outputs": [
    {
     "data": {
      "text/plain": [
       "0"
      ]
     },
     "execution_count": 14,
     "metadata": {},
     "output_type": "execute_result"
    }
   ],
   "source": [
    "np.sum(data.isnull().any(axis=1)) #checking that there are no null values"
   ]
  },
  {
   "cell_type": "code",
   "execution_count": 20,
   "metadata": {},
   "outputs": [
    {
     "data": {
      "text/plain": [
       "809705"
      ]
     },
     "execution_count": 20,
     "metadata": {},
     "output_type": "execute_result"
    }
   ],
   "source": [
    "from sklearn.feature_extraction.text import CountVectorizer\n",
    "cvec = CountVectorizer()\n",
    "cvec.fit(data.text)\n",
    "len(cvec.get_feature_names()) #number of feature extracted from training data"
   ]
  },
  {
   "cell_type": "code",
   "execution_count": 21,
   "metadata": {
    "collapsed": true
   },
   "outputs": [],
   "source": [
    "neg_doc_matrix = cvec.transform(data[data.sentiment == 0].text)\n",
    "pos_doc_matrix = cvec.transform(data[data.sentiment == 4].text)\n",
    "neg_tf = np.sum(neg_doc_matrix,axis=0)\n",
    "pos_tf = np.sum(pos_doc_matrix,axis=0)\n",
    "neg = np.squeeze(np.asarray(neg_tf))\n",
    "pos = np.squeeze(np.asarray(pos_tf))\n",
    "term_freq_df = pd.DataFrame([neg,pos],columns=cvec.get_feature_names()).transpose()"
   ]
  },
  {
   "cell_type": "code",
   "execution_count": 28,
   "metadata": {},
   "outputs": [
    {
     "name": "stdout",
     "output_type": "stream",
     "text": [
      "             0       1\n",
      "the     256473  264212\n",
      "to      312816  252220\n",
      "you     102373  195291\n",
      "and     151319  147462\n",
      "it      154281  144618\n",
      "my      189282  125171\n",
      "for      98728  117064\n",
      "is      127655  108459\n",
      "in      114927  100539\n",
      "of       92647   90970\n",
      "on       83765   83738\n",
      "that     81777   81790\n",
      "me       90401   70118\n",
      "with     49944   64983\n",
      "so       86905   64154\n",
      "have     82518   62102\n",
      "just     63224   61948\n",
      "good     28690   61033\n",
      "be       58448   54223\n",
      "at       62124   49268\n",
      "http     24263   47053\n",
      "love     16708   46962\n",
      "but      81364   46278\n",
      "day      38897   46260\n",
      "was      59052   45144\n",
      "your     20786   44314\n",
      "are      33904   43853\n",
      "this     52161   40979\n",
      "all      41610   40876\n",
      "can      51537   40829\n",
      "up       48899   40680\n",
      "now      50719   39807\n",
      "out      43367   37915\n",
      "like     40747   37241\n",
      "get      45404   36255\n",
      "we       28001   34423\n",
      "thanks    5621   33743\n",
      "lol      21726   33600\n",
      "not      73686   32970\n",
      "do       35293   31048\n",
      "going    33472   30678\n",
      "time     26973   29631\n",
      "what     28652   29264\n",
      "will     22745   29159\n",
      "today    36744   29054\n",
      "from     27956   28077\n",
      "go       45218   27911\n",
      "got      33010   27791\n",
      "too      36676   27616\n",
      "new      15401   26731\n"
     ]
    }
   ],
   "source": [
    "print(term_freq_df.sort_values(1, ascending=False).head(50))"
   ]
  },
  {
   "cell_type": "code",
   "execution_count": 30,
   "metadata": {},
   "outputs": [
    {
     "name": "stdout",
     "output_type": "stream",
     "text": [
      "             0       1\n",
      "to      312816  252220\n",
      "the     256473  264212\n",
      "my      189282  125171\n",
      "it      154281  144618\n",
      "and     151319  147462\n",
      "is      127655  108459\n",
      "in      114927  100539\n",
      "you     102373  195291\n",
      "for      98728  117064\n",
      "of       92647   90970\n",
      "me       90401   70118\n",
      "so       86905   64154\n",
      "on       83765   83738\n",
      "have     82518   62102\n",
      "that     81777   81790\n",
      "but      81364   46278\n",
      "not      73686   32970\n",
      "just     63224   61948\n",
      "at       62124   49268\n",
      "was      59052   45144\n",
      "be       58448   54223\n",
      "no       52629   21638\n",
      "this     52161   40979\n",
      "can      51537   40829\n",
      "now      50719   39807\n",
      "with     49944   64983\n",
      "up       48899   40680\n",
      "get      45404   36255\n",
      "go       45218   27911\n",
      "work     44257   18942\n",
      "out      43367   37915\n",
      "all      41610   40876\n",
      "like     40747   37241\n",
      "day      38897   46260\n",
      "today    36744   29054\n",
      "too      36676   27616\n",
      "do       35293   31048\n",
      "are      33904   43853\n",
      "going    33472   30678\n",
      "got      33010   27791\n",
      "back     32663   23556\n",
      "don      32481   16843\n",
      "really   31232   18341\n",
      "miss     30531    5622\n",
      "want     29783   12365\n",
      "im       29678   19283\n",
      "still    28788   14056\n",
      "good     28690   61033\n",
      "what     28652   29264\n",
      "am       28383   21341\n"
     ]
    }
   ],
   "source": [
    "print(term_freq_df.sort_values(0, ascending=False).head(50))"
   ]
  },
  {
   "cell_type": "code",
   "execution_count": 31,
   "metadata": {},
   "outputs": [
    {
     "data": {
      "text/html": [
       "<div>\n",
       "<style>\n",
       "    .dataframe thead tr:only-child th {\n",
       "        text-align: right;\n",
       "    }\n",
       "\n",
       "    .dataframe thead th {\n",
       "        text-align: left;\n",
       "    }\n",
       "\n",
       "    .dataframe tbody tr th {\n",
       "        vertical-align: top;\n",
       "    }\n",
       "</style>\n",
       "<table border=\"1\" class=\"dataframe\">\n",
       "  <thead>\n",
       "    <tr style=\"text-align: right;\">\n",
       "      <th></th>\n",
       "      <th>negative</th>\n",
       "      <th>positive</th>\n",
       "      <th>total</th>\n",
       "    </tr>\n",
       "  </thead>\n",
       "  <tbody>\n",
       "    <tr>\n",
       "      <th>to</th>\n",
       "      <td>312816</td>\n",
       "      <td>252220</td>\n",
       "      <td>565036</td>\n",
       "    </tr>\n",
       "    <tr>\n",
       "      <th>the</th>\n",
       "      <td>256473</td>\n",
       "      <td>264212</td>\n",
       "      <td>520685</td>\n",
       "    </tr>\n",
       "    <tr>\n",
       "      <th>my</th>\n",
       "      <td>189282</td>\n",
       "      <td>125171</td>\n",
       "      <td>314453</td>\n",
       "    </tr>\n",
       "    <tr>\n",
       "      <th>it</th>\n",
       "      <td>154281</td>\n",
       "      <td>144618</td>\n",
       "      <td>298899</td>\n",
       "    </tr>\n",
       "    <tr>\n",
       "      <th>and</th>\n",
       "      <td>151319</td>\n",
       "      <td>147462</td>\n",
       "      <td>298781</td>\n",
       "    </tr>\n",
       "    <tr>\n",
       "      <th>you</th>\n",
       "      <td>102373</td>\n",
       "      <td>195291</td>\n",
       "      <td>297664</td>\n",
       "    </tr>\n",
       "    <tr>\n",
       "      <th>is</th>\n",
       "      <td>127655</td>\n",
       "      <td>108459</td>\n",
       "      <td>236114</td>\n",
       "    </tr>\n",
       "    <tr>\n",
       "      <th>for</th>\n",
       "      <td>98728</td>\n",
       "      <td>117064</td>\n",
       "      <td>215792</td>\n",
       "    </tr>\n",
       "    <tr>\n",
       "      <th>in</th>\n",
       "      <td>114927</td>\n",
       "      <td>100539</td>\n",
       "      <td>215466</td>\n",
       "    </tr>\n",
       "    <tr>\n",
       "      <th>of</th>\n",
       "      <td>92647</td>\n",
       "      <td>90970</td>\n",
       "      <td>183617</td>\n",
       "    </tr>\n",
       "  </tbody>\n",
       "</table>\n",
       "</div>"
      ],
      "text/plain": [
       "     negative  positive   total\n",
       "to     312816    252220  565036\n",
       "the    256473    264212  520685\n",
       "my     189282    125171  314453\n",
       "it     154281    144618  298899\n",
       "and    151319    147462  298781\n",
       "you    102373    195291  297664\n",
       "is     127655    108459  236114\n",
       "for     98728    117064  215792\n",
       "in     114927    100539  215466\n",
       "of      92647     90970  183617"
      ]
     },
     "execution_count": 31,
     "metadata": {},
     "output_type": "execute_result"
    }
   ],
   "source": [
    "term_freq_df.columns = ['negative', 'positive']\n",
    "term_freq_df['total'] = term_freq_df['negative'] + term_freq_df['positive']\n",
    "term_freq_df.sort_values(by='total', ascending=False).iloc[:10]"
   ]
  },
  {
   "cell_type": "code",
   "execution_count": 40,
   "metadata": {},
   "outputs": [
    {
     "data": {
      "image/png": "[encoded data removed]",
      "text/plain": [
       "<matplotlib.figure.Figure at 0x1a514b2dd8>"
      ]
     },
     "metadata": {},
     "output_type": "display_data"
    }
   ],
   "source": [
    "y_pos = np.arange(500)\n",
    "plt.bar(y_pos, term_freq_df.sort_values(by='total', ascending=False)['total'][:500], align='center', alpha=0.5)\n",
    "plt.ylabel('Frequency')\n",
    "plt.title('Top 500 tokens in tweets')\n",
    "plt.show()"
   ]
  },
  {
   "cell_type": "code",
   "execution_count": 52,
   "metadata": {},
   "outputs": [
    {
     "data": {
      "image/png": "[encoded data removed]",
      "text/plain": [
       "<matplotlib.figure.Figure at 0x1a79716cf8>"
      ]
     },
     "metadata": {},
     "output_type": "display_data"
    }
   ],
   "source": [
    "from pylab import *\n",
    "counts = term_freq_df.total\n",
    "tokens = term_freq_df.index\n",
    "ranks = arange(1, len(counts)+1)\n",
    "indices = argsort(-counts)\n",
    "frequencies = counts[indices]\n",
    "plt.figure(figsize=(10,8))\n",
    "plt.ylim(1,10**6)\n",
    "plt.xlim(1,10**6)\n",
    "loglog(ranks, frequencies, marker=\".\")\n",
    "title(\"plot for tweets tokens\")\n",
    "xlabel(\"Frequency rank of token\")\n",
    "ylabel(\"Absolute frequency of token\")\n",
    "grid(True)\n",
    "for n in list(logspace(-0.5, log10(len(counts)-2), 25).astype(int)):\n",
    "    dummy = text(ranks[n], frequencies[n], \" \" + tokens[indices[n]], \n",
    "                 verticalalignment=\"bottom\",\n",
    "                 horizontalalignment=\"left\")"
   ]
  },
  {
   "cell_type": "code",
   "execution_count": 63,
   "metadata": {},
   "outputs": [],
   "source": [
    "from sklearn.svm import LinearSVC\n",
    "from sklearn.ensemble import AdaBoostClassifier\n",
    "from sklearn.naive_bayes import MultinomialNB, BernoulliNB\n",
    "from sklearn.linear_model import RidgeClassifier\n",
    "from sklearn.linear_model import PassiveAggressiveClassifier\n",
    "from sklearn.linear_model import Perceptron\n",
    "from sklearn.neighbors import NearestCentroid\n",
    "from sklearn.feature_selection import SelectFromModel\n",
    "from sklearn.feature_extraction.text import CountVectorizer\n",
    "from sklearn.linear_model import LogisticRegression\n",
    "from sklearn.pipeline import Pipeline\n",
    "from time import time\n",
    "from sklearn.feature_extraction.text import TfidfVectorizer\n"
   ]
  },
  {
   "cell_type": "code",
   "execution_count": null,
   "metadata": {},
   "outputs": [],
   "source": []
  },
  {
   "cell_type": "code",
   "execution_count": null,
   "metadata": {
    "collapsed": true
   },
   "outputs": [],
   "source": []
  }
 ],
 "metadata": {
  "kernelspec": {
   "display_name": "Python 3",
   "language": "python",
   "name": "python3"
  },
  "language_info": {
   "codemirror_mode": {
    "name": "ipython",
    "version": 3
   },
   "file_extension": ".py",
   "mimetype": "text/x-python",
   "name": "python",
   "nbconvert_exporter": "python",
   "pygments_lexer": "ipython3",
   "version": "3.6.3"
  }
 },
 "nbformat": 4,
 "nbformat_minor": 2
}
